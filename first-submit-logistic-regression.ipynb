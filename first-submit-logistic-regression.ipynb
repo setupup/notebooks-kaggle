{
 "cells": [
  {
   "cell_type": "code",
   "execution_count": 1,
   "metadata": {
    "_cell_guid": "b1076dfc-b9ad-4769-8c92-a6c4dae69d19",
    "_uuid": "8f2839f25d086af736a60e9eeb907d3b93b6e0e5",
    "execution": {
     "iopub.execute_input": "2020-11-27T05:37:55.408196Z",
     "iopub.status.busy": "2020-11-27T05:37:55.407694Z",
     "iopub.status.idle": "2020-11-27T05:37:55.413413Z",
     "shell.execute_reply": "2020-11-27T05:37:55.414277Z"
    },
    "papermill": {
     "duration": 0.027525,
     "end_time": "2020-11-27T05:37:55.414545",
     "exception": false,
     "start_time": "2020-11-27T05:37:55.387020",
     "status": "completed"
    },
    "tags": []
   },
   "outputs": [
    {
     "name": "stdout",
     "output_type": "stream",
     "text": [
      "/kaggle/input/titanic/gender_submission.csv\n",
      "/kaggle/input/titanic/test.csv\n",
      "/kaggle/input/titanic/train.csv\n"
     ]
    }
   ],
   "source": [
    "# This Python 3 environment comes with many helpful analytics libraries installed\n",
    "# It is defined by the kaggle/python Docker image: https://github.com/kaggle/docker-python\n",
    "# For example, here's several helpful packages to load\n",
    "\n",
    "import numpy as np # linear algebra\n",
    "import pandas as pd # data processing, CSV file I/O (e.g. pd.read_csv)\n",
    "\n",
    "# Input data files are available in the read-only \"../input/\" directory\n",
    "# For example, running this (by clicking run or pressing Shift+Enter) will list all files under the input directory\n",
    "\n",
    "import os\n",
    "for dirname, _, filenames in os.walk('/kaggle/input'):\n",
    "    for filename in filenames:\n",
    "        print(os.path.join(dirname, filename))\n",
    "\n",
    "# You can write up to 20GB to the current directory (/kaggle/working/) that gets preserved as output when you create a version using \"Save & Run All\" \n",
    "# You can also write temporary files to /kaggle/temp/, but they won't be saved outside of the current session\n",
    "\n"
   ]
  },
  {
   "cell_type": "code",
   "execution_count": 2,
   "metadata": {
    "execution": {
     "iopub.execute_input": "2020-11-27T05:37:55.451893Z",
     "iopub.status.busy": "2020-11-27T05:37:55.451318Z",
     "iopub.status.idle": "2020-11-27T05:37:55.798519Z",
     "shell.execute_reply": "2020-11-27T05:37:55.797710Z"
    },
    "papermill": {
     "duration": 0.365518,
     "end_time": "2020-11-27T05:37:55.798679",
     "exception": false,
     "start_time": "2020-11-27T05:37:55.433161",
     "status": "completed"
    },
    "tags": []
   },
   "outputs": [
    {
     "name": "stdout",
     "output_type": "stream",
     "text": [
      "/kaggle/working\r\n"
     ]
    }
   ],
   "source": [
    "!pwd"
   ]
  },
  {
   "cell_type": "code",
   "execution_count": 3,
   "metadata": {
    "execution": {
     "iopub.execute_input": "2020-11-27T05:37:55.836711Z",
     "iopub.status.busy": "2020-11-27T05:37:55.836055Z",
     "iopub.status.idle": "2020-11-27T05:37:55.869709Z",
     "shell.execute_reply": "2020-11-27T05:37:55.870135Z"
    },
    "papermill": {
     "duration": 0.055256,
     "end_time": "2020-11-27T05:37:55.870250",
     "exception": false,
     "start_time": "2020-11-27T05:37:55.814994",
     "status": "completed"
    },
    "tags": []
   },
   "outputs": [
    {
     "data": {
      "text/html": [
       "<div>\n",
       "<style scoped>\n",
       "    .dataframe tbody tr th:only-of-type {\n",
       "        vertical-align: middle;\n",
       "    }\n",
       "\n",
       "    .dataframe tbody tr th {\n",
       "        vertical-align: top;\n",
       "    }\n",
       "\n",
       "    .dataframe thead th {\n",
       "        text-align: right;\n",
       "    }\n",
       "</style>\n",
       "<table border=\"1\" class=\"dataframe\">\n",
       "  <thead>\n",
       "    <tr style=\"text-align: right;\">\n",
       "      <th></th>\n",
       "      <th>PassengerId</th>\n",
       "      <th>Survived</th>\n",
       "    </tr>\n",
       "  </thead>\n",
       "  <tbody>\n",
       "    <tr>\n",
       "      <th>0</th>\n",
       "      <td>892</td>\n",
       "      <td>0</td>\n",
       "    </tr>\n",
       "    <tr>\n",
       "      <th>1</th>\n",
       "      <td>893</td>\n",
       "      <td>1</td>\n",
       "    </tr>\n",
       "    <tr>\n",
       "      <th>2</th>\n",
       "      <td>894</td>\n",
       "      <td>0</td>\n",
       "    </tr>\n",
       "    <tr>\n",
       "      <th>3</th>\n",
       "      <td>895</td>\n",
       "      <td>0</td>\n",
       "    </tr>\n",
       "    <tr>\n",
       "      <th>4</th>\n",
       "      <td>896</td>\n",
       "      <td>1</td>\n",
       "    </tr>\n",
       "  </tbody>\n",
       "</table>\n",
       "</div>"
      ],
      "text/plain": [
       "   PassengerId  Survived\n",
       "0          892         0\n",
       "1          893         1\n",
       "2          894         0\n",
       "3          895         0\n",
       "4          896         1"
      ]
     },
     "execution_count": 3,
     "metadata": {},
     "output_type": "execute_result"
    }
   ],
   "source": [
    "import numpy as np\n",
    "import pandas as pd\n",
    "\n",
    "train = pd.read_csv('../input/titanic/train.csv')\n",
    "test = pd.read_csv('../input/titanic/test.csv')\n",
    "gender_submission = pd.read_csv('../input/titanic/gender_submission.csv')\n",
    "gender_submission.head()"
   ]
  },
  {
   "cell_type": "code",
   "execution_count": 4,
   "metadata": {
    "_cell_guid": "79c7e3d0-c299-4dcb-8224-4455121ee9b0",
    "_uuid": "d629ff2d2480ee46fbb7e2d37f6b5fab8052498a",
    "execution": {
     "iopub.execute_input": "2020-11-27T05:37:55.895351Z",
     "iopub.status.busy": "2020-11-27T05:37:55.894706Z",
     "iopub.status.idle": "2020-11-27T05:37:55.903311Z",
     "shell.execute_reply": "2020-11-27T05:37:55.902632Z"
    },
    "papermill": {
     "duration": 0.024592,
     "end_time": "2020-11-27T05:37:55.903446",
     "exception": false,
     "start_time": "2020-11-27T05:37:55.878854",
     "status": "completed"
    },
    "tags": []
   },
   "outputs": [],
   "source": [
    "data = pd.concat([train, test], sort=False)"
   ]
  },
  {
   "cell_type": "code",
   "execution_count": 5,
   "metadata": {
    "execution": {
     "iopub.execute_input": "2020-11-27T05:37:55.939681Z",
     "iopub.status.busy": "2020-11-27T05:37:55.936318Z",
     "iopub.status.idle": "2020-11-27T05:37:55.943358Z",
     "shell.execute_reply": "2020-11-27T05:37:55.942761Z"
    },
    "papermill": {
     "duration": 0.028034,
     "end_time": "2020-11-27T05:37:55.943481",
     "exception": false,
     "start_time": "2020-11-27T05:37:55.915447",
     "status": "completed"
    },
    "tags": []
   },
   "outputs": [],
   "source": [
    "data.isnull().sum()\n",
    "data['Sex'].replace(['male', 'female'], [0,1], inplace=True)"
   ]
  },
  {
   "cell_type": "code",
   "execution_count": 6,
   "metadata": {
    "execution": {
     "iopub.execute_input": "2020-11-27T05:37:55.974928Z",
     "iopub.status.busy": "2020-11-27T05:37:55.974114Z",
     "iopub.status.idle": "2020-11-27T05:37:55.977182Z",
     "shell.execute_reply": "2020-11-27T05:37:55.976570Z"
    },
    "papermill": {
     "duration": 0.022341,
     "end_time": "2020-11-27T05:37:55.977280",
     "exception": false,
     "start_time": "2020-11-27T05:37:55.954939",
     "status": "completed"
    },
    "tags": []
   },
   "outputs": [],
   "source": [
    "data['Embarked'].fillna('S', inplace=True)\n",
    "data['Embarked'] = data['Embarked'].map({'S':0, 'C':1, 'Q':2}).astype(int)"
   ]
  },
  {
   "cell_type": "code",
   "execution_count": 7,
   "metadata": {
    "execution": {
     "iopub.execute_input": "2020-11-27T05:37:56.008070Z",
     "iopub.status.busy": "2020-11-27T05:37:56.006876Z",
     "iopub.status.idle": "2020-11-27T05:37:56.009971Z",
     "shell.execute_reply": "2020-11-27T05:37:56.009137Z"
    },
    "papermill": {
     "duration": 0.020846,
     "end_time": "2020-11-27T05:37:56.010103",
     "exception": false,
     "start_time": "2020-11-27T05:37:55.989257",
     "status": "completed"
    },
    "tags": []
   },
   "outputs": [],
   "source": [
    "data['Fare'].fillna(np.mean(data['Fare']), inplace=True)"
   ]
  },
  {
   "cell_type": "code",
   "execution_count": 8,
   "metadata": {
    "execution": {
     "iopub.execute_input": "2020-11-27T05:37:56.052929Z",
     "iopub.status.busy": "2020-11-27T05:37:56.052052Z",
     "iopub.status.idle": "2020-11-27T05:37:56.055425Z",
     "shell.execute_reply": "2020-11-27T05:37:56.054765Z"
    },
    "papermill": {
     "duration": 0.027419,
     "end_time": "2020-11-27T05:37:56.055536",
     "exception": false,
     "start_time": "2020-11-27T05:37:56.028117",
     "status": "completed"
    },
    "tags": []
   },
   "outputs": [],
   "source": [
    "age_avg = data['Age'].mean()\n",
    "age_std = data['Age'].std()\n",
    "data['Age'].fillna(np.random.randint(age_avg - age_std, age_avg +age_std), inplace=True)"
   ]
  },
  {
   "cell_type": "code",
   "execution_count": 9,
   "metadata": {
    "execution": {
     "iopub.execute_input": "2020-11-27T05:37:56.088968Z",
     "iopub.status.busy": "2020-11-27T05:37:56.088179Z",
     "iopub.status.idle": "2020-11-27T05:37:56.092323Z",
     "shell.execute_reply": "2020-11-27T05:37:56.091500Z"
    },
    "papermill": {
     "duration": 0.024229,
     "end_time": "2020-11-27T05:37:56.092484",
     "exception": false,
     "start_time": "2020-11-27T05:37:56.068255",
     "status": "completed"
    },
    "tags": []
   },
   "outputs": [],
   "source": [
    "delete_colums = ['Name', 'PassengerId', 'SibSp', 'Parch', 'Ticket', 'Cabin']\n",
    "data.drop(delete_colums, axis=1, inplace=True)"
   ]
  },
  {
   "cell_type": "code",
   "execution_count": 10,
   "metadata": {
    "execution": {
     "iopub.execute_input": "2020-11-27T05:37:56.137918Z",
     "iopub.status.busy": "2020-11-27T05:37:56.136888Z",
     "iopub.status.idle": "2020-11-27T05:37:56.140416Z",
     "shell.execute_reply": "2020-11-27T05:37:56.139602Z"
    },
    "papermill": {
     "duration": 0.02999,
     "end_time": "2020-11-27T05:37:56.140533",
     "exception": false,
     "start_time": "2020-11-27T05:37:56.110543",
     "status": "completed"
    },
    "tags": []
   },
   "outputs": [],
   "source": [
    "train = data[:len(train)]\n",
    "test = data[len(train):]\n",
    "y_train=train['Survived']\n",
    "X_train=train.drop('Survived', axis=1)\n",
    "X_test = test.drop('Survived', axis=1)"
   ]
  },
  {
   "cell_type": "code",
   "execution_count": 11,
   "metadata": {
    "execution": {
     "iopub.execute_input": "2020-11-27T05:37:56.182771Z",
     "iopub.status.busy": "2020-11-27T05:37:56.181918Z",
     "iopub.status.idle": "2020-11-27T05:37:57.093351Z",
     "shell.execute_reply": "2020-11-27T05:37:57.092643Z"
    },
    "papermill": {
     "duration": 0.934653,
     "end_time": "2020-11-27T05:37:57.093530",
     "exception": false,
     "start_time": "2020-11-27T05:37:56.158877",
     "status": "completed"
    },
    "tags": []
   },
   "outputs": [
    {
     "name": "stderr",
     "output_type": "stream",
     "text": [
      "/opt/conda/lib/python3.7/site-packages/sklearn/linear_model/_sag.py:330: ConvergenceWarning: The max_iter was reached which means the coef_ did not converge\n",
      "  \"the coef_ did not converge\", ConvergenceWarning)\n"
     ]
    }
   ],
   "source": [
    "from sklearn.linear_model import LogisticRegression\n",
    "\n",
    "clf = LogisticRegression(penalty='l2', solver='sag', random_state=0)\n",
    "clf.fit(X_train, y_train)\n",
    "y_pred = clf.predict(X_test)"
   ]
  },
  {
   "cell_type": "code",
   "execution_count": 12,
   "metadata": {
    "execution": {
     "iopub.execute_input": "2020-11-27T05:37:57.131094Z",
     "iopub.status.busy": "2020-11-27T05:37:57.129587Z",
     "iopub.status.idle": "2020-11-27T05:37:57.135465Z",
     "shell.execute_reply": "2020-11-27T05:37:57.135092Z"
    },
    "papermill": {
     "duration": 0.028799,
     "end_time": "2020-11-27T05:37:57.135544",
     "exception": false,
     "start_time": "2020-11-27T05:37:57.106745",
     "status": "completed"
    },
    "tags": []
   },
   "outputs": [
    {
     "data": {
      "text/plain": [
       "array([0., 0., 0., 0., 0., 0., 0., 0., 0., 0., 0., 0., 1., 0., 0., 0., 0.,\n",
       "       0., 0., 0., 0., 0., 0., 1., 1., 0., 1., 0., 0., 0., 0., 0., 0., 0.,\n",
       "       1., 0., 0., 0., 0., 0., 0., 0., 0., 0., 0., 0., 0., 0., 0., 0., 1.,\n",
       "       0., 0., 1., 0., 0., 0., 0., 0., 1., 0., 0., 0., 0., 1., 0., 0., 0.,\n",
       "       0., 1., 0., 0., 0., 0., 1., 1., 0., 0., 0., 0., 0., 1., 0., 0., 0.,\n",
       "       0., 0., 0., 0., 0., 0., 0., 1., 0., 0., 0., 0., 0., 0., 0., 0., 0.,\n",
       "       0., 0., 0., 0., 0., 0., 0., 0., 0., 0., 0., 0., 1., 0., 0., 0., 1.,\n",
       "       0., 0., 0., 1., 0., 0., 0., 0., 0., 0., 0., 0., 0., 0., 0., 0., 0.,\n",
       "       0., 0., 0., 0., 1., 1., 1., 0., 0., 0., 1., 0., 0., 0., 1., 0., 0.,\n",
       "       0., 0., 0., 1., 0., 0., 0., 0., 0., 0., 0., 0., 0., 0., 0., 0., 0.,\n",
       "       0., 0., 0., 0., 0., 1., 0., 0., 0., 0., 0., 1., 1., 0., 1., 0., 0.,\n",
       "       0., 1., 0., 0., 0., 0., 0., 0., 0., 1., 0., 0., 0., 0., 0., 1., 0.,\n",
       "       0., 0., 0., 0., 0., 0., 0., 0., 1., 0., 0., 0., 0., 1., 1., 0., 0.,\n",
       "       0., 0., 0., 0., 0., 0., 0., 0., 0., 1., 0., 0., 0., 1., 0., 0., 0.,\n",
       "       0., 1., 0., 0., 1., 0., 0., 0., 0., 0., 0., 0., 1., 0., 1., 0., 0.,\n",
       "       0., 0., 0., 0., 0., 0., 0., 0., 0., 0., 0., 0., 0., 0., 0., 0., 0.,\n",
       "       1., 0., 0., 0., 0., 0., 0., 0., 0., 0., 0., 0., 0., 0., 0., 1., 0.,\n",
       "       0., 0., 0., 0., 0., 0., 0., 1., 0., 0., 0., 0., 0., 0., 0., 0., 0.,\n",
       "       1., 0., 0., 0., 0., 0., 0., 0., 1., 0., 1., 0., 0., 0., 0., 0., 0.,\n",
       "       0., 1., 0., 1., 0., 0., 0., 0., 0., 0., 0., 0., 0., 0., 0., 0., 0.,\n",
       "       0., 0., 1., 1., 0., 0., 0., 0., 0., 0., 0., 0., 1., 0., 0., 0., 0.,\n",
       "       0., 0., 0., 1., 0., 0., 0., 1., 1., 0., 0., 0., 0., 0., 1., 0., 0.,\n",
       "       0., 1., 0., 0., 0., 0., 0., 0., 0., 0., 0., 1., 0., 0., 0., 0., 1.,\n",
       "       0., 0., 0., 0., 1., 0., 1., 0., 0., 1., 0., 1., 1., 0., 0., 0., 1.,\n",
       "       0., 0., 0., 1., 0., 0., 1., 0., 0., 0.])"
      ]
     },
     "execution_count": 12,
     "metadata": {},
     "output_type": "execute_result"
    }
   ],
   "source": [
    "y_pred"
   ]
  },
  {
   "cell_type": "code",
   "execution_count": 13,
   "metadata": {
    "execution": {
     "iopub.execute_input": "2020-11-27T05:37:57.161015Z",
     "iopub.status.busy": "2020-11-27T05:37:57.160613Z",
     "iopub.status.idle": "2020-11-27T05:37:57.508311Z",
     "shell.execute_reply": "2020-11-27T05:37:57.507550Z"
    },
    "papermill": {
     "duration": 0.36339,
     "end_time": "2020-11-27T05:37:57.508481",
     "exception": false,
     "start_time": "2020-11-27T05:37:57.145091",
     "status": "completed"
    },
    "tags": []
   },
   "outputs": [],
   "source": [
    "sub = pd.read_csv('../input/titanic/gender_submission.csv')\n",
    "sub['Survived'] = list(map(int, y_pred))\n",
    "sub.to_csv('submission.csv', index=False)"
   ]
  },
  {
   "cell_type": "code",
   "execution_count": null,
   "metadata": {
    "papermill": {
     "duration": 0.019549,
     "end_time": "2020-11-27T05:37:57.548313",
     "exception": false,
     "start_time": "2020-11-27T05:37:57.528764",
     "status": "completed"
    },
    "tags": []
   },
   "outputs": [],
   "source": []
  }
 ],
 "metadata": {
  "kernelspec": {
   "display_name": "Python 3",
   "language": "python",
   "name": "python3"
  },
  "language_info": {
   "codemirror_mode": {
    "name": "ipython",
    "version": 3
   },
   "file_extension": ".py",
   "mimetype": "text/x-python",
   "name": "python",
   "nbconvert_exporter": "python",
   "pygments_lexer": "ipython3",
   "version": "3.7.6"
  },
  "papermill": {
   "duration": 6.046882,
   "end_time": "2020-11-27T05:37:57.675520",
   "environment_variables": {},
   "exception": null,
   "input_path": "__notebook__.ipynb",
   "output_path": "__notebook__.ipynb",
   "parameters": {},
   "start_time": "2020-11-27T05:37:51.628638",
   "version": "2.1.0"
  }
 },
 "nbformat": 4,
 "nbformat_minor": 4
}
